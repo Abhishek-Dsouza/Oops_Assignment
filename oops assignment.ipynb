{
 "cells": [
  {
   "cell_type": "markdown",
   "id": "55b13dd0-1065-4191-b9e1-d3b4812e3365",
   "metadata": {},
   "source": [
    "# Opps Assignment"
   ]
  },
  {
   "cell_type": "markdown",
   "id": "8ad67fd8-c7fb-41cc-b693-bffaf6f3b37a",
   "metadata": {},
   "source": [
    "## Q1. Which function is used to open a file? What are the different modes of opening a file? Explain each mode of file opening.\n",
    "### Answer:-"
   ]
  },
  {
   "cell_type": "markdown",
   "id": "e603356a-3d4e-4317-afc9-db5be82a744b",
   "metadata": {},
   "source": [
    "#### In Python, the built-in open() function is used to open a file.\n",
    "\n",
    "#### The open() function takes two arguments: the filename (or path to the file) and the mode in which the file should be opened. The mode argument is optional and defaults to \"r\" (read mode).\n",
    "\n",
    "### There are different modes of opening a file in Python:\n",
    "\n",
    "#### \"r\" (read mode): This is the default mode. It opens the file for reading. If the file doesn't exist, it raises a FileNotFoundError.\n",
    "\n",
    "#### \"w\" (write mode): It opens the file for writing. If the file already exists, it truncates it (i.e., deletes its contents). If the file doesn't exist, it creates a new file.\n",
    "\n",
    "#### \"a\" (append mode): It opens the file for writing. If the file already exists, it appends the new data to the end of the file. If the file doesn't exist, it creates a new file.\n",
    "\n",
    "#### \"x\" (exclusive creation mode): It opens the file for writing. If the file already exists, it raises a FileExistsError. If the file doesn't exist, it creates a new file.\n",
    "\n",
    "#### \"b\" (binary mode): It opens the file in binary mode. This mode is used for reading or writing binary data (such as images or audio files).\n",
    "\n",
    "#### \"t\" (text mode): This is the default mode. It opens the file in text mode. This mode is used for reading or writing text data (such as plain text files).\n",
    "\n",
    "#### \"+\" (read/write mode): It opens the file for both reading and writing. This mode is used to update an existing file.\n",
    "\n",
    "#### To open a file in a specific mode, we pass the mode as the second argument to the open() function. For example, to open a file for writing, we use the following code:"
   ]
  },
  {
   "cell_type": "markdown",
   "id": "1da53df0-7647-4a10-a8c0-b7899a0c50c6",
   "metadata": {},
   "source": [
    "## Q2. Why close() function is used? Why is it important to close a file?\n",
    "### Answer:-"
   ]
  },
  {
   "cell_type": "markdown",
   "id": "a4508049-008b-47a8-98a2-519c0a668bf2",
   "metadata": {},
   "source": [
    "#### The close() function is used to close a file that was opened using the open() function in Python. When we are done with a file, it's important to close it to free up system resources and to ensure that any data that was written to the file is actually written to disk.\n",
    "\n",
    "#### If we don't close the file, it remains open and in use by the program. This can cause problems if we try to open the same file again, or if we try to delete or move the file. In addition, any data that was written to the file may not actually be written to disk until the file is closed.\n",
    "\n",
    "#### Closing a file also releases any system resources that were allocated to the file when it was opened. If we have many files open at the same time, and we don't close them, we may run out of system resources (such as file descriptors) and our program may crash.\n",
    "\n",
    "#### Therefore, it's important to always close a file after we are done with it. We can do this using the close() method of the file object, like this:"
   ]
  },
  {
   "cell_type": "code",
   "execution_count": 1,
   "id": "f155b877-f055-449a-a196-e41cfaa752f5",
   "metadata": {},
   "outputs": [],
   "source": [
    "file = open(\"filename.txt\", \"w\")\n",
    "\n",
    "file.close()\n"
   ]
  },
  {
   "cell_type": "markdown",
   "id": "0e71a68f-9fc8-45eb-87db-4c1ae5d5f7c2",
   "metadata": {},
   "source": [
    "## Q3. Write a python program to create a text file. Write ‘I want to become a Data Scientist’ in that file. Then close the file. Open this file and read the content of the file.\n",
    "### Answer:-"
   ]
  },
  {
   "cell_type": "code",
   "execution_count": 4,
   "id": "84a64994-1d35-4f1b-8a8b-5e56ddc2e553",
   "metadata": {},
   "outputs": [
    {
     "name": "stdout",
     "output_type": "stream",
     "text": [
      "I want to become a Data Scientist\n"
     ]
    }
   ],
   "source": [
    "with open(\"message.txt\", \"w\") as file:\n",
    "    file.write(\"I want to become a Data Scientist\")\n",
    "\n",
    "\n",
    "with open(\"message.txt\", \"r\") as file:\n",
    "    content = file.read()\n",
    "\n",
    "print(content)\n"
   ]
  },
  {
   "cell_type": "markdown",
   "id": "fd17df83-a1cb-4c90-b076-284c8ba6491e",
   "metadata": {},
   "source": [
    "## Q4. Explain the following with python code: read(), readline() and readlines().\n",
    "### Answer:-"
   ]
  },
  {
   "cell_type": "markdown",
   "id": "a1664437-f757-4ef3-a38e-0d17db1db826",
   "metadata": {},
   "source": [
    "#### read(): This method reads the entire contents of a file as a string. If you don't specify an argument, it will read the entire file at once. If you specify an argument n, it will read n bytes of the file at a time. Here's an example:"
   ]
  },
  {
   "cell_type": "code",
   "execution_count": 8,
   "id": "a99ec11b-8b95-44c0-b6bf-6d529ab0f578",
   "metadata": {},
   "outputs": [],
   "source": [
    "with open(\"filename.txt\", \"r\") as file:\n",
    "    data = file.read()\n"
   ]
  },
  {
   "cell_type": "markdown",
   "id": "5993ff4d-e7ca-485c-aaf7-7be8eafe4949",
   "metadata": {},
   "source": [
    "#### readline(): This method reads a single line of a file at a time. Each time you call readline(), it returns the next line of the file, until it reaches the end of the file. Here's an example:"
   ]
  },
  {
   "cell_type": "code",
   "execution_count": 9,
   "id": "630a2804-e2da-4788-89ba-67f8629fc527",
   "metadata": {},
   "outputs": [],
   "source": [
    "with open(\"filename.txt\", \"r\") as file:\n",
    "    line1 = file.readline()\n",
    "    line2 = file.readline()\n"
   ]
  },
  {
   "cell_type": "markdown",
   "id": "e53460fc-2f1c-4279-be37-fb2ae0a31aa6",
   "metadata": {},
   "source": [
    "#### readlines(): This method reads all the lines of a file at once and returns them as a list of strings. Each string in the list corresponds to a line of the file. Here's an example:"
   ]
  },
  {
   "cell_type": "code",
   "execution_count": 7,
   "id": "b5ec8c3a-55df-4f54-98ee-bcc7526899ff",
   "metadata": {},
   "outputs": [],
   "source": [
    "with open(\"filename.txt\", \"r\") as file:\n",
    "    lines = file.readlines()\n"
   ]
  },
  {
   "cell_type": "markdown",
   "id": "61be0dfc-a877-4564-8228-b4bc135922ff",
   "metadata": {},
   "source": [
    "## Q5. Explain why with statement is used with open(). What is the advantage of using with statement and open() together?\n",
    "### Answer:-"
   ]
  },
  {
   "cell_type": "markdown",
   "id": "97cd9e1d-f671-4b21-a161-dca23d63523b",
   "metadata": {},
   "source": [
    "#### In Python, the with statement is used with open() to ensure that a file is properly closed after it has been used. The advantage of using the with statement with open() is that it automatically takes care of closing the file, even if an error occurs while the file is being read or written.\n",
    "\n",
    "#### When a file is opened using the open() function, it returns a file object which represents the connection between the program and the file. This connection needs to be closed when the program is finished with the file, to free up system resources and prevent potential issues with file locks or data loss. If the file object is not closed properly, it can lead to problems such as memory leaks, file corruption, or other issues.\n",
    "\n",
    "#### The with statement in Python provides a way to ensure that a file is properly closed after it has been used, even if an exception is raised in the middle of the file operations. The syntax for using with with open() is:"
   ]
  },
  {
   "cell_type": "code",
   "execution_count": null,
   "id": "5b7a3300-e615-49f3-aa7a-13eb0e8b71f1",
   "metadata": {},
   "outputs": [],
   "source": [
    "with open(\"filename.txt\", \"mode\") as file:    "
   ]
  },
  {
   "cell_type": "markdown",
   "id": "b1bdf7eb-d8ae-4dac-ace1-bd2d2bd2e45c",
   "metadata": {},
   "source": [
    "## Q6. Explain the write() and writelines() functions. Give a suitable example.\n",
    "### Answer:-"
   ]
  },
  {
   "cell_type": "markdown",
   "id": "56ae8b04-3bf7-4735-87ae-4343bb5b0e8d",
   "metadata": {},
   "source": [
    "#### In Python, the write() and writelines() functions are used to write data to a file.\n",
    "\n",
    "#### The write() function is used to write a single string of data to a file. It takes a single argument, which is the string to be written to the file. If the file already exists, write() will overwrite the existing contents of the file. If the file does not exist, write() will create a new file with the specified name.\n",
    "\n",
    "#### Here is an example of how to use the write() function:"
   ]
  },
  {
   "cell_type": "code",
   "execution_count": 11,
   "id": "eeb52799-e611-448e-b0ca-f0e4840e7b6b",
   "metadata": {},
   "outputs": [],
   "source": [
    "with open(\"example.txt\", \"w\") as file:\n",
    "    file.write(\"Hello, world!\")\n"
   ]
  },
  {
   "cell_type": "markdown",
   "id": "215f1cfc-487f-4137-975a-baea78d0d812",
   "metadata": {},
   "source": [
    "#### The writelines() function is used to write multiple strings of data to a file. It takes a list of strings as its argument, and writes each string to the file on a separate line. If the file already exists, writelines() will overwrite the existing contents of the file. If the file does not exist, writelines() will create a new file with the specified name.\n",
    "\n",
    "#### Here is an example of how to use the writelines() function:"
   ]
  },
  {
   "cell_type": "code",
   "execution_count": 12,
   "id": "2bd1de2d-5ebe-464b-a710-36fc74aec2a7",
   "metadata": {},
   "outputs": [],
   "source": [
    "lines = [\"This is line 1\", \"This is line 2\", \"This is line 3\"]\n",
    "with open(\"example.txt\", \"w\") as file:\n",
    "    file.writelines(lines)\n"
   ]
  },
  {
   "cell_type": "code",
   "execution_count": null,
   "id": "c829018a-acd2-4a8d-92d7-b89496af2c14",
   "metadata": {},
   "outputs": [],
   "source": []
  }
 ],
 "metadata": {
  "kernelspec": {
   "display_name": "Python 3 (ipykernel)",
   "language": "python",
   "name": "python3"
  },
  "language_info": {
   "codemirror_mode": {
    "name": "ipython",
    "version": 3
   },
   "file_extension": ".py",
   "mimetype": "text/x-python",
   "name": "python",
   "nbconvert_exporter": "python",
   "pygments_lexer": "ipython3",
   "version": "3.10.8"
  }
 },
 "nbformat": 4,
 "nbformat_minor": 5
}
